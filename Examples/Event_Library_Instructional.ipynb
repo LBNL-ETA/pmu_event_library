{
 "cells": [
  {
   "cell_type": "markdown",
   "metadata": {},
   "source": [
    "## Indtroduction\n",
    "\n",
    "This instructional Python Notebook is intended to guide users in their use of the PMU Event Library, which contains both raw and processed data, as well as line plot visualizations, associated with grid events detected on Lawrence Berekeley National Laboratory's campus. "
   ]
  },
  {
   "cell_type": "markdown",
   "metadata": {},
   "source": [
    "## Import Required Modules"
   ]
  },
  {
   "cell_type": "code",
   "execution_count": 1,
   "metadata": {
    "collapsed": true
   },
   "outputs": [],
   "source": [
    "import os\n",
    "import sys\n",
    "import matplotlib\n",
    "import matplotlib.pyplot as plt\n",
    "%matplotlib inline\n",
    "os.chdir(\"..\")\n",
    "from Utilities import utilities"
   ]
  },
  {
   "cell_type": "markdown",
   "metadata": {},
   "source": [
    "## Display Library Structure, Sample of Contents\n",
    "\n",
    "The following cell prints the total number of events contained with the PMU Event Library, and further displays which events occurred under active PV generation and which occurred under no PV generation. A random event's voltage timeseries plot is selected and displayed to give users a feel for the nature of the data contained within an event's folder."
   ]
  },
  {
   "cell_type": "code",
   "execution_count": 2,
   "metadata": {},
   "outputs": [
    {
     "name": "stdout",
     "output_type": "stream",
     "text": [
      "Total events in the library:  30\n",
      "Total number of events occurring during PV Generation:  3\n",
      "Total number of events occurring without PV Generation:  27\n",
      " \n",
      "PV Event Timestamps: \n",
      "10/10/2017 12:47:29\n",
      "11/19/2017 09:17:55\n",
      "01/09/2019 08:44:28\n",
      " \n",
      "No PV Event Timestamps: \n",
      "01/10/2017 23:29:17\n",
      "01/15/2017 02:55:43\n",
      "01/25/2017 17:27:19\n",
      "02/08/2017 01:58:28\n",
      "02/08/2017 01:58:53\n",
      "06/13/2017 13:30:00\n",
      "07/08/2017 15:07:34\n",
      "07/08/2017 15:08:52\n",
      "09/07/2017 13:22:11\n",
      "09/23/2017 18:21:49\n",
      "10/09/2017 00:25:01\n",
      "11/05/2017 22:33:20\n",
      "03/12/2018 05:58:07\n",
      "03/13/2018 14:39:21\n",
      "03/13/2018 14:39:42\n",
      "03/14/2018 10:57:18\n",
      "04/17/2018 03:15:56\n",
      "05/16/2018 19:15:19\n",
      "06/08/2018 14:46:33\n",
      "06/08/2018 17:58:41\n",
      "06/21/2018 16:37:55\n",
      "09/13/2018 04:05:07\n",
      "10/02/2018 04:14:37\n",
      "10/20/2018 02:45:13\n",
      "01/17/2019 00:19:29\n",
      "01/21/2019 09:34:53\n",
      "02/01/2019 23:59:46\n",
      " \n",
      "Randomly Selected Event:  PV 11/19/2017 09:17:55\n",
      "Randomly Selected PMU:  Building 90\n",
      " \n",
      "Raw event data contains measurements of: \n",
      "C1-Ang [Deg]\n",
      "C1-Mag [Arms]\n",
      "C2-Ang [Deg]\n",
      "C2-Mag [Arms]\n",
      "C3-Ang [Deg]\n",
      "C3-Mag [Arms]\n",
      "L1-Ang [Deg]\n",
      "L1-Mag [Vrms]\n",
      "L2-Ang [Deg]\n",
      "L2-Mag [Vrms]\n",
      "L3-Ang [Deg]\n",
      "L3-Mag [Vrms]\n",
      "Active-Power-1 [W]\n",
      "Reactive-Power-1 [VAR]\n",
      "Apparent-Power-1 [VA]\n",
      "Active-Power-2 [W]\n",
      "Reactive-Power-2 [VAR]\n",
      "Apparent-Power-2 [VA]\n",
      "Active-Power-3 [W]\n",
      "Reactive-Power-3 [VAR]\n",
      "Apparent-Power-3 [VA]\n",
      "Voltage-Sag [-]\n",
      "Voltage-Swell [-]\n"
     ]
    },
    {
     "data": {
      "image/png": "[encoded data removed]",
      "text/plain": [
       "<matplotlib.figure.Figure at 0x7f8e484e2e50>"
      ]
     },
     "metadata": {},
     "output_type": "display_data"
    }
   ],
   "source": [
    "utilities.print_library_contents(path=os.getcwd()+'/Event_Library')"
   ]
  }
 ],
 "metadata": {
  "kernelspec": {
   "display_name": "Python 2",
   "language": "python",
   "name": "python2"
  },
  "language_info": {
   "codemirror_mode": {
    "name": "ipython",
    "version": 2
   },
   "file_extension": ".py",
   "mimetype": "text/x-python",
   "name": "python",
   "nbconvert_exporter": "python",
   "pygments_lexer": "ipython2",
   "version": "2.7.12"
  }
 },
 "nbformat": 4,
 "nbformat_minor": 2
}
